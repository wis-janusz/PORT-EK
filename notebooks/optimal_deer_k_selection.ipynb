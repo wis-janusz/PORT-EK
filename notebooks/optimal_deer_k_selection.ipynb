{
 "cells": [
  {
   "cell_type": "markdown",
   "metadata": {},
   "source": [
    "This notebook descrbies the selection of optimal k-mer length for the \"deer\" data set for use in PORT-EK pipeline analysis.\n",
    "To use it you will need the k-mer indices generated with PORTEKfind.py in the output/deer/[k]mer_indices directories, where [k] denotes the tested k-mer length value. \n",
    "To generate the indices as in the paper, you will need to run PORTEKfind.py on the appropriate GISAID data sets, previously downloaded in .fasta files, using the following commands from the main PORT-EK directory (the output directories must already exist):\n",
    " - python PORTEKfind.py \"input/deer/EPI_SET_240422va.fasta\" \"output/deer/[k]mer_indices/\" --k [k] --group deer\n",
    " - python PORTEKfind.py \"input/deer/EPI_SET_240422rw.fasta\" \"output/deer/[k]mer_indices/\" --k [k] --group humearly  \n",
    " - python PORTEKfind.py \"input/deer/EPI_SET_240422qc.fasta\" \"output/deer/[k]mer_indices/\" --k [k] --group humlate  \n",
    "\n",
    " substituting [k] for the tested k-mer lengths. To replicate the reuslts in the paper, you need to test k values of 5,7,9,11,15,19 and 25 for all sequences.  \n",
    "\n",
    "Note that GISAID web interface only allows downloading up to 10 000 sequences in one file, so when you download the human viral sequences they will be in several files. You have to first combine each group into a single .fasta file.\n",
    "You can also run generate_deer_kmers.sh scrpit which will automatically run PORTEKfind for all the options above, this is recommended only if your machine have at least 20 free CPUs and ~160GB free disk space. "
   ]
  },
  {
   "cell_type": "markdown",
   "metadata": {},
   "source": [
    "1. Import necessary libraries and PORT-EK source code:"
   ]
  },
  {
   "cell_type": "code",
   "execution_count": 2,
   "metadata": {},
   "outputs": [],
   "source": [
    "import sys\n",
    "import json\n",
    "import pathlib\n",
    "import numpy as np\n",
    "import pandas as pd\n",
    "import seaborn as sns\n",
    "\n",
    "#adding portek source directory to sys path before importing\n",
    "portek_path = \"../portek\"\n",
    "sys.path.insert(0,portek_path)\n",
    "import portek\n",
    "\n",
    "pd.options.mode.copy_on_write = True"
   ]
  },
  {
   "cell_type": "markdown",
   "metadata": {},
   "source": [
    "2. Declare data set specific definitions and functions:"
   ]
  },
  {
   "cell_type": "code",
   "execution_count": 3,
   "metadata": {},
   "outputs": [],
   "source": [
    "#PORT-EK parameters\n",
    "c = 0.01  # This is the conservation thershold used in k-mer rarity filter, other parameters are not used for optimal k selection.\n",
    "\n",
    "#List of k values to test\n",
    "k_list = [5,7,9,11,15,19,25]\n",
    "\n",
    "#Data set specific definitions and functions\n",
    "\n",
    "FREQ_COLS = ['deer_freq','humearly_freq','humlate_freq']\n",
    "AVG_COLS = ['deer_avg','humearly_avg','humlate_avg']\n"
   ]
  },
  {
   "cell_type": "markdown",
   "metadata": {},
   "source": [
    "3. Calculate k-mer specificity and efficiency for tested lengths. For definitions and discussion see [reference to our paper]"
   ]
  },
  {
   "cell_type": "code",
   "execution_count": 4,
   "metadata": {},
   "outputs": [
    {
     "name": "stdout",
     "output_type": "stream",
     "text": [
      "Calculating specificity and efficiency of 5-mers.\n"
     ]
    }
   ],
   "source": [
    "k_dict = {}\n",
    "for k in k_list:\n",
    "    print(f\"Calculating specificity and efficiency of {k}-mers.\")\n",
    "    INPUT_PATH = f\"../output/deer/{k}mer_indices\"\n",
    "    \n",
    "    kmer_set = set()\n",
    "    sample_list = []\n",
    "    in_path = pathlib.Path(INPUT_PATH).glob('**/*')\n",
    "    for filename in in_path:\n",
    "        sample_list.append(filename.stem)\n",
    "        with open(filename, mode=\"r\") as in_file:\n",
    "            temp_dict = json.load(in_file)\n",
    "        kmer_set.update(temp_dict.keys())\n",
    "\n",
    "    all_kmer_matrix = pd.DataFrame(0, index=list(kmer_set), columns=sample_list, dtype=\"uint8\")\n",
    "    deer_sample_idx = [sample for sample in all_kmer_matrix.columns if \"deer\" in sample]\n",
    "    humearly_sample_idx = [sample for sample in all_kmer_matrix.columns if \"humearly\" in sample]\n",
    "    humlate_sample_idx = [sample for sample in all_kmer_matrix.columns if \"humlate\" in sample]\n",
    "    print(f\"Done importing sample names and {k}-mers sequences.\")\n",
    "\n",
    "    in_path = pathlib.Path(INPUT_PATH).glob('**/*')\n",
    "    for filename in in_path:\n",
    "        with open(filename, mode=\"r\") as in_file:\n",
    "            temp_dict = json.load(in_file)\n",
    "        count_dict = {f\"{filename.stem}\":[len(pos) for pos in temp_dict.values()]}\n",
    "        temp_df = pd.DataFrame(count_dict, index=temp_dict.keys(), dtype=\"uint8\")\n",
    "        all_kmer_matrix.update(temp_df)\n",
    "\n",
    "    bin_kmer_matrix = all_kmer_matrix > 0\n",
    "    all_kmer_matrix['deer_freq'] = bin_kmer_matrix.loc[:,deer_sample_idx].mean(axis=1)\n",
    "    all_kmer_matrix['humearly_freq'] = bin_kmer_matrix.loc[:,humearly_sample_idx].mean(axis=1)\n",
    "    all_kmer_matrix['humlate_freq'] = bin_kmer_matrix.loc[:,humlate_sample_idx].mean(axis=1)\n",
    "    all_kmer_matrix['deer_avg'] = all_kmer_matrix.loc[:,deer_sample_idx].mean(axis=1)\n",
    "    all_kmer_matrix['humearly_avg'] = all_kmer_matrix.loc[:,humearly_sample_idx].mean(axis=1)\n",
    "    all_kmer_matrix['humlate_avg'] = all_kmer_matrix.loc[:,humlate_sample_idx].mean(axis=1)\n",
    "    del bin_kmer_matrix\n",
    "\n",
    "    if k*'A' in all_kmer_matrix.index:\n",
    "        all_kmer_matrix = all_kmer_matrix.drop(k*'A')\n",
    "    print(f\"Done generating count matrix of all {k}-mers.\")\n",
    "\n",
    "    common_kmer_matrix = portek.filter_kmers(all_kmer_matrix, freq_cols=FREQ_COLS, cons_thr=c)\n",
    "    print(f\"Done filerting out rare {k}-mers.\")\n",
    "    \n",
    "    mean_count = common_kmer_matrix.iloc[:,:-6].mean(axis=None)\n",
    "    common_kmer_matrix[['deer_avg_norm','humearly_avg_norm', 'humlate_avg_norm']] = common_kmer_matrix[AVG_COLS]/mean_count\n",
    "    common_kmer_matrix['deer_early_err_norm'] = common_kmer_matrix['deer_avg_norm']-common_kmer_matrix['humearly_avg_norm']\n",
    "    common_kmer_matrix['deer_late_err_norm'] = common_kmer_matrix['deer_avg_norm']-common_kmer_matrix['humlate_avg_norm']\n",
    "    common_kmer_matrix['deer_RMSE_norm'] =  np.sqrt(((common_kmer_matrix['deer_early_err_norm'])**2+(common_kmer_matrix['deer_late_err_norm'])**2)/2)\n",
    "\n",
    "    specificity = common_kmer_matrix['deer_RMSE_norm'].quantile(q=0.99)\n",
    "    efficiency = len(common_kmer_matrix)/len(all_kmer_matrix)\n",
    "    k_dict[k] = (specificity, efficiency)\n",
    "\n",
    "    del all_kmer_matrix, common_kmer_matrix\n",
    "    print(f\"Done calculating specificty and efficiency of {k}-mers.\")"
   ]
  },
  {
   "cell_type": "markdown",
   "metadata": {},
   "source": [
    "4. Plot specificity and efficiency"
   ]
  },
  {
   "cell_type": "code",
   "execution_count": null,
   "metadata": {},
   "outputs": [
    {
     "data": {
      "text/plain": [
       "[0.05104840178858274,\n",
       " 0.20164500181599965,\n",
       " 0.6470078273456462,\n",
       " 0.7139146796007635,\n",
       " 0.7725504442799422,\n",
       " 0.8573629593619777]"
      ]
     },
     "execution_count": 17,
     "metadata": {},
     "output_type": "execute_result"
    }
   ],
   "source": [
    "fig, ax = plt.subplots()\n",
    "ax.set_title(\"Specificity vs k-mer length\")\n",
    "ax.set_xlabel(\"k-mer length\")\n",
    "ax.set_xticks(range(5,27,2))\n",
    "ax.set_ylabel(\"k-mer specificity\")\n",
    "sns.scatterplot(x=k_list, y=[val[0] for val in k_dict.values()])\n",
    "plt.show()"
   ]
  },
  {
   "cell_type": "code",
   "execution_count": null,
   "metadata": {},
   "outputs": [
    {
     "ename": "NameError",
     "evalue": "name 'sns' is not defined",
     "output_type": "error",
     "traceback": [
      "\u001b[0;31m---------------------------------------------------------------------------\u001b[0m",
      "\u001b[0;31mNameError\u001b[0m                                 Traceback (most recent call last)",
      "Cell \u001b[0;32mIn[1], line 1\u001b[0m\n\u001b[0;32m----> 1\u001b[0m \u001b[43msns\u001b[49m\u001b[38;5;241m.\u001b[39mscatterplot(x\u001b[38;5;241m=\u001b[39mk_list, y\u001b[38;5;241m=\u001b[39m[val[\u001b[38;5;241m0\u001b[39m] \u001b[38;5;28;01mfor\u001b[39;00m val \u001b[38;5;129;01min\u001b[39;00m k_dict\u001b[38;5;241m.\u001b[39mvalues()])\n",
      "\u001b[0;31mNameError\u001b[0m: name 'sns' is not defined"
     ]
    }
   ],
   "source": [
    "fig, ax = plt.subplots()\n",
    "ax.set_title(\"Efficiency vs k-mer length\")\n",
    "ax.set_xlabel(\"k-mer length\")\n",
    "ax.set_xticks(range(5,27,2))\n",
    "ax.set_ylabel(\"k-mer efficiency\")\n",
    "sns.scatterplot(x=k_list, y=[val[1] for val in k_dict.values()])\n",
    "plt.show()"
   ]
  }
 ],
 "metadata": {
  "kernelspec": {
   "display_name": "env",
   "language": "python",
   "name": "python3"
  },
  "language_info": {
   "codemirror_mode": {
    "name": "ipython",
    "version": 3
   },
   "file_extension": ".py",
   "mimetype": "text/x-python",
   "name": "python",
   "nbconvert_exporter": "python",
   "pygments_lexer": "ipython3",
   "version": "3.11.9"
  }
 },
 "nbformat": 4,
 "nbformat_minor": 2
}
