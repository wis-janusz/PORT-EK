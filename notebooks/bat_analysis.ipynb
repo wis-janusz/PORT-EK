{
 "cells": [
  {
   "cell_type": "markdown",
   "metadata": {},
   "source": [
    "This notebook descrbies the PORT-EK pipeline analysis of k-mers genreated from the \"bat\" dataset from [reference to our paper].\n",
    "To use it you will need the k-mer indices generated with PORTEKfind.py in the output/bat/15mer_indices directory.\n",
    "To generate the indices as in the paper, you will need to run PORTEKfind.py on the appropriate GISAID data sets, previously downloaded in .fasta files, using the following commands from the main PORT-EK directory:\n",
    " - python PORTEKfind.py input/bat/bat.fasta output/bat/[k]mer_indices/ --k [k] --group bat\n",
    " - python PORTEKfind.py input/bat/EPI_SET_240422qm.fasta output/bat/[k]mer_indices/ --k [k] --group hum\n",
    "\n",
    "For the selection of optimal k please see optimal_bat_k_selection.ipynb notebook. "
   ]
  },
  {
   "cell_type": "markdown",
   "metadata": {},
   "source": [
    "1. Import necessary libraries and PORT-EK source code:"
   ]
  },
  {
   "cell_type": "code",
   "execution_count": 1,
   "metadata": {},
   "outputs": [],
   "source": [
    "import sys\n",
    "import json\n",
    "import pathlib\n",
    "import pickle\n",
    "import numpy as np\n",
    "import pandas as pd\n",
    "import matplotlib.pyplot as plt\n",
    "import seaborn as sns\n",
    "\n",
    "#adding portek source directory to sys path before importing\n",
    "portek_path = \"../portek\"\n",
    "sys.path.insert(0,portek_path)\n",
    "import portek\n",
    "\n",
    "pd.options.mode.copy_on_write = True"
   ]
  },
  {
   "cell_type": "markdown",
   "metadata": {},
   "source": [
    "2. Declare data set specific definitions and functions:"
   ]
  },
  {
   "cell_type": "code",
   "execution_count": 2,
   "metadata": {},
   "outputs": [],
   "source": [
    "#PORT-EK parameters\n",
    "c = 0.5  # This is the conservation thershold used in k-mer rarity filter\n",
    "m = 2  # This is the maximum number of mismatches allowed when re-examining rare k-mers\n",
    "min_RMSE = 0.1  # This is the RMSE threshold used to select enriched k-mers\n",
    "m_map = 2  # This is the maximum number of mismatches allowed when mapping k-mers to reference genome\n",
    "l_map = 1000  # This the maximum allowed offset of mapping position from average position of k-mer in samples\n",
    "\n",
    "#Relative path to k-mer indices\n",
    "INPUT_PATH = \"../output/bat/15mer_indices\"\n",
    "\n",
    "#Data set specific definitions of k-mer type, column names, reference gene and protein mapping, and colors for plots.\n",
    "\n",
    "FREQ_COLS = ['bat_freq','hum_freq']\n",
    "AVG_COLS = ['bat_avg','hum_avg',]\n",
    "\n",
    "VOLCANO_CMAP = {\n",
    "    \"not significant\": (\"#DDDDDD\", 0.5),\n",
    "    \"bat over-represented\": (\"#870f7e\", 1),\n",
    "    \"human over-represented\": (\"#005ff5\", 1),\n",
    "}\n",
    "GENE_ORDER_LIST = [\n",
    "    \"orf1ab\",\n",
    "    \"S\",\n",
    "    \"orf3a\",\n",
    "    \"E\",\n",
    "    \"M\",\n",
    "    \"orf6\",\n",
    "    \"orf7a\",\n",
    "    \"orf7b\",\n",
    "    \"orf8\",\n",
    "    \"N\",\n",
    "    \"orf10\",\n",
    "    \"intergenic\",\n",
    "]\n",
    "PROTEIN_ORDER_LIST = [\n",
    "    \"nsp1\",\n",
    "    \"nsp2\",\n",
    "    \"nsp3\",\n",
    "    \"nsp4\",\n",
    "    \"nsp5\",\n",
    "    \"nsp6\",\n",
    "    \"nsp7\",\n",
    "    \"nsp8\",\n",
    "    \"nsp9\",\n",
    "    \"nsp10\",\n",
    "    \"nsp12\",\n",
    "    \"nsp13\",\n",
    "    \"nsp14\",\n",
    "    \"nsp15\",\n",
    "    \"nsp16\",\n",
    "    \"S\",\n",
    "    \"orf3a\",\n",
    "    \"E\",\n",
    "    \"M\",\n",
    "    \"orf6\",\n",
    "    \"orf7a\",\n",
    "    \"orf7b\",\n",
    "    \"orf8\",\n",
    "    \"N\",\n",
    "    \"orf10\",\n",
    "    \"non-coding\",\n",
    "]\n",
    "\n",
    "\n",
    "def assign_kmer_type(row):\n",
    "    if (\n",
    "        row[\"bat_err\"] > 0\n",
    "        and row[\"p-value\"] < 0.01\n",
    "    ):\n",
    "        return \"bat over-represented\"\n",
    "    elif (\n",
    "        row[\"bat_err\"] < 0\n",
    "        and row[\"p-value\"] < 0.01\n",
    "    ):\n",
    "        return \"human over-represented\"\n",
    "    else:\n",
    "        return \"not significant\"\n",
    "\n",
    "\n",
    "def assign_gene(pos):\n",
    "    if pos in range(266, 21555 + 1):\n",
    "        gene = \"orf1ab\"\n",
    "    elif pos in range(21563, 25384 + 1):\n",
    "        gene = \"S\"\n",
    "    elif pos in range(25393, 26220 + 1):\n",
    "        gene = \"orf3a\"\n",
    "    elif pos in range(26245, 26472 + 1):\n",
    "        gene = \"E\"\n",
    "    elif pos in range(26523, 27191 + 1):\n",
    "        gene = \"M\"\n",
    "    elif pos in range(27202, 27387 + 1):\n",
    "        gene = \"orf6\"\n",
    "    elif pos in range(27394, 27759 + 1):\n",
    "        gene = \"orf7a\"\n",
    "    elif pos in range(27756, 27887 + 1):\n",
    "        gene = \"orf7b\"\n",
    "    elif pos in range(27894, 28259 + 1):\n",
    "        gene = \"orf8\"\n",
    "    elif pos in range(28274, 29533 + 1):\n",
    "        gene = \"N\"\n",
    "    elif pos in range(29558, 29674 + 1):\n",
    "        gene = \"orf10\"\n",
    "    else:\n",
    "        gene = \"intergenic\"\n",
    "    return gene\n",
    "\n",
    "\n",
    "def assign_protein(pos):\n",
    "    if pos in range(266, 805 + 1):\n",
    "        protein = \"nsp1\"\n",
    "    elif pos in range(806, 2719 + 1):\n",
    "        protein = \"nsp2\"\n",
    "    elif pos in range(2720, 8554 + 1):\n",
    "        protein = \"nsp3\"\n",
    "    elif pos in range(8555, 10054 + 1):\n",
    "        protein = \"nsp4\"\n",
    "    elif pos in range(10055, 10972 + 1):\n",
    "        protein = \"nsp5\"\n",
    "    elif pos in range(10973, 11842 + 1):\n",
    "        protein = \"nsp6\"\n",
    "    elif pos in range(11843, 12091 + 1):\n",
    "        protein = \"nsp7\"\n",
    "    elif pos in range(12092, 12685 + 1):\n",
    "        protein = \"nsp8\"\n",
    "    elif pos in range(12686, 13024 + 1):\n",
    "        protein = \"nsp9\"\n",
    "    elif pos in range(13025, 13441 + 1):\n",
    "        protein = \"nsp10\"\n",
    "    elif pos in range(13442, 16236 + 1):\n",
    "        protein = \"nsp12\"\n",
    "    elif pos in range(16237, 18039 + 1):\n",
    "        protein = \"nsp13\"\n",
    "    elif pos in range(18040, 19620 + 1):\n",
    "        protein = \"nsp14\"\n",
    "    elif pos in range(19621, 20658 + 1):\n",
    "        protein = \"nsp15\"\n",
    "    elif pos in range(20659, 21555 + 1):\n",
    "        protein = \"nsp16\"\n",
    "    elif pos in range(21563, 25384 + 1):\n",
    "        protein = \"S\"\n",
    "    elif pos in range(25393, 26220 + 1):\n",
    "        protein = \"orf3a\"\n",
    "    elif pos in range(26245, 26472 + 1):\n",
    "        protein = \"E\"\n",
    "    elif pos in range(26523, 27191 + 1):\n",
    "        protein = \"M\"\n",
    "    elif pos in range(27202, 27387 + 1):\n",
    "        protein = \"orf6\"\n",
    "    elif pos in range(27394, 27759 + 1):\n",
    "        protein = \"orf7a\"\n",
    "    elif pos in range(27756, 27887 + 1):\n",
    "        protein = \"orf7b\"\n",
    "    elif pos in range(27894, 28259 + 1):\n",
    "        protein = \"orf8\"\n",
    "    elif pos in range(28274, 29533 + 1):\n",
    "        protein = \"N\"\n",
    "    elif pos in range(29558, 29674 + 1):\n",
    "        protein = \"orf10\"\n",
    "    else:\n",
    "        protein = \"non-coding\"\n",
    "    return protein"
   ]
  },
  {
   "cell_type": "markdown",
   "metadata": {},
   "source": [
    "3. Construct k-mer count matrix and apply rarity filter"
   ]
  },
  {
   "cell_type": "code",
   "execution_count": 3,
   "metadata": {},
   "outputs": [
    {
     "name": "stdout",
     "output_type": "stream",
     "text": [
      "\n",
      "Imported 1442011 kmers and 2344 samples.\n",
      "Completed hum_EPI_ISL_402128. 2344 of 2344 indices done...\n",
      "32566 common k-mers remaining after filtering at a threshold of 0.5.\n"
     ]
    }
   ],
   "source": [
    "kmer_set = set()\n",
    "sample_list = []\n",
    "in_path = pathlib.Path(INPUT_PATH).glob('**/*')\n",
    "\n",
    "for filename in in_path:\n",
    "    sample_list.append(filename.stem)\n",
    "    with open(filename, mode=\"r\") as in_file:\n",
    "        temp_dict = json.load(in_file)\n",
    "    kmer_set.update(temp_dict.keys())\n",
    "\n",
    "all_kmer_matrix = pd.DataFrame(0, index=list(kmer_set), columns=sample_list, dtype=\"uint8\")\n",
    "bat_sample_idx = [sample for sample in all_kmer_matrix.columns if \"bat\" in sample]\n",
    "hum_sample_idx = [sample for sample in all_kmer_matrix.columns if \"hum\" in sample]\n",
    "\n",
    "print(f\"\\nImported {len(kmer_set)} kmers and {len(sample_list)} samples.\")\n",
    "\n",
    "counter = 1\n",
    "tot_files = len(sample_list)\n",
    "in_path = pathlib.Path(INPUT_PATH).glob('**/*')\n",
    "\n",
    "for filename in in_path:\n",
    "    with open(filename, mode=\"r\") as in_file:\n",
    "        temp_dict = json.load(in_file)\n",
    "    count_dict = {f\"{filename.stem}\":[len(pos) for pos in temp_dict.values()]}\n",
    "    temp_df = pd.DataFrame(count_dict, index=temp_dict.keys(), dtype=\"uint8\")\n",
    "    all_kmer_matrix.update(temp_df)\n",
    "    print(f\"Completed {filename.stem}. {counter} of {tot_files} indices done.\", end=\"\\r\", flush=True)\n",
    "    counter += 1\n",
    "\n",
    "bin_kmer_matrix = all_kmer_matrix > 0\n",
    "all_kmer_matrix['bat_freq'] = bin_kmer_matrix.loc[:,bat_sample_idx].mean(axis=1)\n",
    "all_kmer_matrix['hum_freq'] = bin_kmer_matrix.loc[:,hum_sample_idx].mean(axis=1)\n",
    "all_kmer_matrix['bat_avg'] = all_kmer_matrix.loc[:,bat_sample_idx].mean(axis=1)\n",
    "all_kmer_matrix['hum_avg'] = all_kmer_matrix.loc[:,hum_sample_idx].mean(axis=1)\n",
    "del bin_kmer_matrix\n",
    "\n",
    "if 'AAAAAAAAAAAAAAA' in all_kmer_matrix.index:\n",
    "    all_kmer_matrix = all_kmer_matrix.drop('AAAAAAAAAAAAAAA')\n",
    "\n",
    "common_kmer_matrix = portek.filter_kmers(all_kmer_matrix, freq_cols=FREQ_COLS, cons_thr=c)\n",
    "\n",
    "print(f\"\\n{len(common_kmer_matrix)} common k-mers remaining after filtering at a threshold of {c}.\")"
   ]
  },
  {
   "cell_type": "markdown",
   "metadata": {},
   "source": [
    "4. Calculate common k-mer statistics and identify host over-represented k-mers."
   ]
  },
  {
   "cell_type": "code",
   "execution_count": 12,
   "metadata": {},
   "outputs": [
    {
     "name": "stderr",
     "output_type": "stream",
     "text": [
      "/home/labadmin/repos/PORT-EK/env/lib/python3.11/site-packages/pandas/core/arraylike.py:399: RuntimeWarning: divide by zero encountered in log10\n",
      "  result = getattr(ufunc, method)(*inputs, **kwargs)\n"
     ]
    },
    {
     "name": "stdout",
     "output_type": "stream",
     "text": [
      "2744 bat over-represented k-mers and 29822 human over-represented k-mers found.\n"
     ]
    }
   ],
   "source": [
    "common_kmer_matrix['bat_err'] = common_kmer_matrix['bat_avg']-common_kmer_matrix['hum_avg']\n",
    "common_kmer_matrix['bat_RMSE'] =  np.sqrt((common_kmer_matrix['bat_err']**2)/2)\n",
    "common_kmer_matrix['seq'] = common_kmer_matrix.index\n",
    "common_kmer_matrix['p-value'] = common_kmer_matrix['seq'].apply(portek.calc_kmer_pvalue,args=(bat_sample_idx, hum_sample_idx, common_kmer_matrix))\n",
    "common_kmer_matrix = common_kmer_matrix.sort_values('bat_RMSE',ascending=False)\n",
    "common_kmer_matrix = common_kmer_matrix.drop('seq', axis=1)\n",
    "common_kmer_matrix['-log10_p-value'] = -np.log10(common_kmer_matrix['p-value'])\n",
    "common_kmer_matrix['group'] = common_kmer_matrix.apply(assign_kmer_type, axis=1)\n",
    "common_kmer_stat_matrix = common_kmer_matrix.drop(sample_list, axis=1)\n",
    "bat_overrep = common_kmer_matrix[common_kmer_matrix['group'] == 'bat over-represented']\n",
    "human_overrep = common_kmer_matrix[common_kmer_matrix['group'] == 'human over-represented']\n",
    "\n",
    "print(f\"{len(bat_overrep)} bat over-represented k-mers and {len(human_overrep)} human over-represented k-mers found.\")"
   ]
  },
  {
   "cell_type": "markdown",
   "metadata": {},
   "source": [
    "Optional: save/load k-mer count and statistics matrices. Uncomment the relevant lines to save/load particular files."
   ]
  },
  {
   "cell_type": "code",
   "execution_count": 13,
   "metadata": {},
   "outputs": [],
   "source": [
    "# common_kmer_matrix.to_csv(\"output/bat/common_15mer_count_matrix.csv\")\n",
    "# common_kmer_stat_matrix.to_csv(\"output/bat/common_15mer_stat_matrix.csv\")\n",
    "# all_kmer_matrix.to_csv(\"output/bat/all_15mer_count_matrix.csv\")\n",
    "\n",
    "# common_kmer_matrix = pd.read_csv('output/bat/common_15mer_count_matrix.csv', index_col=0)\n",
    "# all_kmer_matrix = pd.read_csv('output/bat/all_15mer_count_matrix.csv', index_col=0)\n",
    "# common_kmer_stat_matrix = pd.read_csv(\"output/bat/common_15mer_stat_matrix.csv\", index_col=0)"
   ]
  },
  {
   "cell_type": "markdown",
   "metadata": {},
   "source": [
    "5. Visualize common k-mers using volcano plots. Uncomment the last line in each cell to save as svg."
   ]
  },
  {
   "cell_type": "code",
   "execution_count": 14,
   "metadata": {},
   "outputs": [
    {
     "data": {
      "text/plain": [
       "Text(0, 0.5, '-log10 of p-value')"
      ]
     },
     "execution_count": 14,
     "metadata": {},
     "output_type": "execute_result"
    },
    {
     "data": {
      "image/png": "[encoded data removed]",
      "text/plain": [
       "<Figure size 640x480 with 1 Axes>"
      ]
     },
     "metadata": {},
     "output_type": "display_data"
    }
   ],
   "source": [
    "fig, ax = plt.subplots()\n",
    "sns.scatterplot(data=common_kmer_matrix, x='bat_err', y = '-log10_p-value', s=10, linewidth = 0, hue='group', palette=VOLCANO_CMAP)\n",
    "plt.axhline(y=-np.log10(0.01), color = 'black')\n",
    "ax.set_title('Average kmer count change vs human samples')\n",
    "ax.set_xlabel('Average kmer count change')\n",
    "ax.set_ylabel('-log10 of p-value')\n",
    "# plt.savefig(\"output/bat/15mers_change_vs_p.svg\", dpi = 600, format = \"svg\")"
   ]
  },
  {
   "cell_type": "markdown",
   "metadata": {},
   "source": [
    "6. Optionally re-examine rare k-mers similar to over-represented k-mers. Run the two cells below only if you want to include potential rare, but still enriched k-mers in the analysis."
   ]
  },
  {
   "cell_type": "code",
   "execution_count": 15,
   "metadata": {},
   "outputs": [
    {
     "name": "stdout",
     "output_type": "stream",
     "text": [
      "Done 1228 out of 2744 kmers. Time per kmer: 0:00:00.709685\r"
     ]
    }
   ],
   "source": [
    "bat_overrep_rare = all_kmer_matrix.loc[(all_kmer_matrix['bat_avg'] == all_kmer_matrix[AVG_COLS].max(axis=1))]\n",
    "bat_overrep_rare = bat_overrep_rare[~bat_overrep_rare.index.isin(bat_overrep.index)]\n",
    "\n",
    "#Comment the following line to avoid lengthy k-mer similarity graph calculation\n",
    "bat_overrep_similarity_graph = portek.build_similarity_graph_two_list(bat_overrep.index.tolist(), bat_overrep_rare.index.tolist(),m)\n",
    "\n",
    "#Uncomment the first of the following blocks to save the graph as pickle file. Uncomment the second to load a previously calculated graph.\n",
    "\n",
    "# with open(f\"output/bat/bor_15mer_{m}m.pickle\", mode = \"wb\") as out_file:\n",
    "#     pickle.dump(bat_overrep_similarity_graph, out_file)\n",
    "\n",
    "# with open(f\"output/bat/bor_15mer_{m}m.pickle\", mode = \"rb\") as in_file:\n",
    "#     bat_overrep_similarity_graph = pickle.load(in_file)\n",
    "\n",
    "bat_overrep_rare = bat_overrep_rare[bat_overrep_rare.index.isin(bat_overrep_similarity_graph.nodes)]\n",
    "\n",
    "bat_overrep_rare['bat_err'] = bat_overrep_rare['bat_avg']-bat_overrep_rare['hum_avg']\n",
    "bat_overrep_rare['bat_RMSE'] =  np.sqrt((bat_overrep_rare['bat_err']**2)/2)\n",
    "bat_overrep_rare['seq'] = bat_overrep_rare.index\n",
    "bat_overrep_rare['p-value'] = bat_overrep_rare['seq'].apply(portek.calc_kmer_pvalue,args=(bat_sample_idx, hum_sample_idx, bat_overrep_rare))\n",
    "bat_overrep_rare = bat_overrep_rare.sort_values('bat_RMSE',ascending=False)\n",
    "bat_overrep_rare = bat_overrep_rare.drop('seq', axis=1)\n",
    "bat_overrep_rare['-log10_p-value'] = -np.log10(bat_overrep_rare['p-value'])\n",
    "bat_overrep_rare['group'] = bat_overrep_rare.apply(assign_kmer_type, axis=1)\n",
    "bat_overrep_rare  = bat_overrep_rare[bat_overrep_rare['group'] == 'bat over-represented']\n",
    "bat_overrep_all = pd.concat([bat_overrep_rare, bat_overrep])"
   ]
  },
  {
   "cell_type": "code",
   "execution_count": null,
   "metadata": {},
   "outputs": [
    {
     "name": "stdout",
     "output_type": "stream",
     "text": [
      "Done 496 out of 496 kmers. Time per kmer: 0:00:00.033589\r"
     ]
    },
    {
     "name": "stderr",
     "output_type": "stream",
     "text": [
      "/home/labadmin/repos/PORT-EK/env/lib/python3.11/site-packages/pandas/core/arraylike.py:399: RuntimeWarning: divide by zero encountered in log10\n",
      "  result = getattr(ufunc, method)(*inputs, **kwargs)\n"
     ]
    }
   ],
   "source": [
    "human_overrep_rare = all_kmer_matrix.loc[(all_kmer_matrix['bat_avg'] == all_kmer_matrix[AVG_COLS].min(axis=1))]\n",
    "human_overrep_rare = human_overrep_rare[~human_overrep_rare.index.isin(human_overrep.index)]\n",
    "\n",
    "#Comment the following line to avoid lengthy k-mer similarity graph calculation\n",
    "human_overrep_similarity_graph = portek.build_similarity_graph_two_list(human_overrep.index.tolist(), human_overrep_rare.index.tolist(),m)\n",
    "\n",
    "#Uncomment the first of the following blocks to save the graph as pickle file. Uncomment the second to load a previously calculated graph.\n",
    "\n",
    "# with open(f\"output/bat/hor_15mer_{m}m.pickle\", mode = \"wb\") as out_file:\n",
    "#     pickle.dump(human_overrep_similarity_graph, out_file)\n",
    "\n",
    "# with open(f\"output/bat/hor_15mer_{m}m.pickle\", mode = \"rb\") as in_file:\n",
    "#     human_overrep_similarity_graph = pickle.load(in_file)\n",
    "\n",
    "human_overrep_rare = human_overrep_rare[human_overrep_rare.index.isin(human_overrep_similarity_graph.nodes)]\n",
    "\n",
    "human_overrep_rare['bat_err'] = human_overrep_rare['bat_avg']-human_overrep_rare['hum_avg']\n",
    "human_overrep_rare['bat_RMSE'] =  np.sqrt((human_overrep_rare['bat_err']**2)/2)\n",
    "human_overrep_rare['seq'] = human_overrep_rare.index\n",
    "human_overrep_rare['p-value'] = human_overrep_rare['seq'].apply(portek.calc_kmer_pvalue,args=(bat_sample_idx, hum_sample_idx, human_overrep_rare))\n",
    "human_overrep_rare = human_overrep_rare.sort_values('bat_RMSE',ascending=False)\n",
    "human_overrep_rare = human_overrep_rare.drop('seq', axis=1)\n",
    "human_overrep_rare['-log10_p-value'] = -np.log10(human_overrep_rare['p-value'])\n",
    "human_overrep_rare['group'] = human_overrep_rare.apply(assign_kmer_type, axis=1)\n",
    "human_overrep_rare  = human_overrep_rare[human_overrep_rare['group'] == 'human over-represented']\n",
    "human_overrep_all = pd.concat([human_overrep_rare, human_overrep])"
   ]
  },
  {
   "cell_type": "markdown",
   "metadata": {},
   "source": [
    "7. Find enriched k-mers by applying the RMSE filter. Export enriched k-mers for use in host classification."
   ]
  },
  {
   "cell_type": "code",
   "execution_count": null,
   "metadata": {},
   "outputs": [
    {
     "name": "stdout",
     "output_type": "stream",
     "text": [
      "2984 bat enriched k-mers and 244 human enriched k-mers found.\n"
     ]
    },
    {
     "ename": "OSError",
     "evalue": "Cannot save file into a non-existent directory: 'output/bat'",
     "output_type": "error",
     "traceback": [
      "\u001b[0;31m---------------------------------------------------------------------------\u001b[0m",
      "\u001b[0;31mOSError\u001b[0m                                   Traceback (most recent call last)",
      "Cell \u001b[0;32mIn[10], line 18\u001b[0m\n\u001b[1;32m     15\u001b[0m counts_for_classifier\u001b[38;5;241m.\u001b[39mdrop(common_kmer_stat_matrix\u001b[38;5;241m.\u001b[39mcolumns, axis\u001b[38;5;241m=\u001b[39m\u001b[38;5;241m0\u001b[39m, inplace\u001b[38;5;241m=\u001b[39m\u001b[38;5;28;01mTrue\u001b[39;00m)\n\u001b[1;32m     16\u001b[0m counts_for_classifier[\u001b[38;5;124m'\u001b[39m\u001b[38;5;124mhost\u001b[39m\u001b[38;5;124m'\u001b[39m] \u001b[38;5;241m=\u001b[39m counts_for_classifier\u001b[38;5;241m.\u001b[39mindex\u001b[38;5;241m.\u001b[39mmap(assign_host_numerical)\n\u001b[0;32m---> 18\u001b[0m \u001b[43mcounts_for_classifier\u001b[49m\u001b[38;5;241;43m.\u001b[39;49m\u001b[43mto_csv\u001b[49m\u001b[43m(\u001b[49m\u001b[38;5;124;43m\"\u001b[39;49m\u001b[38;5;124;43moutput/bat/15mer_counts_for_classifier.csv\u001b[39;49m\u001b[38;5;124;43m\"\u001b[39;49m\u001b[43m)\u001b[49m\n",
      "File \u001b[0;32m~/repos/PORT-EK/env/lib/python3.11/site-packages/pandas/util/_decorators.py:333\u001b[0m, in \u001b[0;36mdeprecate_nonkeyword_arguments.<locals>.decorate.<locals>.wrapper\u001b[0;34m(*args, **kwargs)\u001b[0m\n\u001b[1;32m    327\u001b[0m \u001b[38;5;28;01mif\u001b[39;00m \u001b[38;5;28mlen\u001b[39m(args) \u001b[38;5;241m>\u001b[39m num_allow_args:\n\u001b[1;32m    328\u001b[0m     warnings\u001b[38;5;241m.\u001b[39mwarn(\n\u001b[1;32m    329\u001b[0m         msg\u001b[38;5;241m.\u001b[39mformat(arguments\u001b[38;5;241m=\u001b[39m_format_argument_list(allow_args)),\n\u001b[1;32m    330\u001b[0m         \u001b[38;5;167;01mFutureWarning\u001b[39;00m,\n\u001b[1;32m    331\u001b[0m         stacklevel\u001b[38;5;241m=\u001b[39mfind_stack_level(),\n\u001b[1;32m    332\u001b[0m     )\n\u001b[0;32m--> 333\u001b[0m \u001b[38;5;28;01mreturn\u001b[39;00m \u001b[43mfunc\u001b[49m\u001b[43m(\u001b[49m\u001b[38;5;241;43m*\u001b[39;49m\u001b[43margs\u001b[49m\u001b[43m,\u001b[49m\u001b[43m \u001b[49m\u001b[38;5;241;43m*\u001b[39;49m\u001b[38;5;241;43m*\u001b[39;49m\u001b[43mkwargs\u001b[49m\u001b[43m)\u001b[49m\n",
      "File \u001b[0;32m~/repos/PORT-EK/env/lib/python3.11/site-packages/pandas/core/generic.py:3967\u001b[0m, in \u001b[0;36mNDFrame.to_csv\u001b[0;34m(self, path_or_buf, sep, na_rep, float_format, columns, header, index, index_label, mode, encoding, compression, quoting, quotechar, lineterminator, chunksize, date_format, doublequote, escapechar, decimal, errors, storage_options)\u001b[0m\n\u001b[1;32m   3956\u001b[0m df \u001b[38;5;241m=\u001b[39m \u001b[38;5;28mself\u001b[39m \u001b[38;5;28;01mif\u001b[39;00m \u001b[38;5;28misinstance\u001b[39m(\u001b[38;5;28mself\u001b[39m, ABCDataFrame) \u001b[38;5;28;01melse\u001b[39;00m \u001b[38;5;28mself\u001b[39m\u001b[38;5;241m.\u001b[39mto_frame()\n\u001b[1;32m   3958\u001b[0m formatter \u001b[38;5;241m=\u001b[39m DataFrameFormatter(\n\u001b[1;32m   3959\u001b[0m     frame\u001b[38;5;241m=\u001b[39mdf,\n\u001b[1;32m   3960\u001b[0m     header\u001b[38;5;241m=\u001b[39mheader,\n\u001b[0;32m   (...)\u001b[0m\n\u001b[1;32m   3964\u001b[0m     decimal\u001b[38;5;241m=\u001b[39mdecimal,\n\u001b[1;32m   3965\u001b[0m )\n\u001b[0;32m-> 3967\u001b[0m \u001b[38;5;28;01mreturn\u001b[39;00m \u001b[43mDataFrameRenderer\u001b[49m\u001b[43m(\u001b[49m\u001b[43mformatter\u001b[49m\u001b[43m)\u001b[49m\u001b[38;5;241;43m.\u001b[39;49m\u001b[43mto_csv\u001b[49m\u001b[43m(\u001b[49m\n\u001b[1;32m   3968\u001b[0m \u001b[43m    \u001b[49m\u001b[43mpath_or_buf\u001b[49m\u001b[43m,\u001b[49m\n\u001b[1;32m   3969\u001b[0m \u001b[43m    \u001b[49m\u001b[43mlineterminator\u001b[49m\u001b[38;5;241;43m=\u001b[39;49m\u001b[43mlineterminator\u001b[49m\u001b[43m,\u001b[49m\n\u001b[1;32m   3970\u001b[0m \u001b[43m    \u001b[49m\u001b[43msep\u001b[49m\u001b[38;5;241;43m=\u001b[39;49m\u001b[43msep\u001b[49m\u001b[43m,\u001b[49m\n\u001b[1;32m   3971\u001b[0m \u001b[43m    \u001b[49m\u001b[43mencoding\u001b[49m\u001b[38;5;241;43m=\u001b[39;49m\u001b[43mencoding\u001b[49m\u001b[43m,\u001b[49m\n\u001b[1;32m   3972\u001b[0m \u001b[43m    \u001b[49m\u001b[43merrors\u001b[49m\u001b[38;5;241;43m=\u001b[39;49m\u001b[43merrors\u001b[49m\u001b[43m,\u001b[49m\n\u001b[1;32m   3973\u001b[0m \u001b[43m    \u001b[49m\u001b[43mcompression\u001b[49m\u001b[38;5;241;43m=\u001b[39;49m\u001b[43mcompression\u001b[49m\u001b[43m,\u001b[49m\n\u001b[1;32m   3974\u001b[0m \u001b[43m    \u001b[49m\u001b[43mquoting\u001b[49m\u001b[38;5;241;43m=\u001b[39;49m\u001b[43mquoting\u001b[49m\u001b[43m,\u001b[49m\n\u001b[1;32m   3975\u001b[0m \u001b[43m    \u001b[49m\u001b[43mcolumns\u001b[49m\u001b[38;5;241;43m=\u001b[39;49m\u001b[43mcolumns\u001b[49m\u001b[43m,\u001b[49m\n\u001b[1;32m   3976\u001b[0m \u001b[43m    \u001b[49m\u001b[43mindex_label\u001b[49m\u001b[38;5;241;43m=\u001b[39;49m\u001b[43mindex_label\u001b[49m\u001b[43m,\u001b[49m\n\u001b[1;32m   3977\u001b[0m \u001b[43m    \u001b[49m\u001b[43mmode\u001b[49m\u001b[38;5;241;43m=\u001b[39;49m\u001b[43mmode\u001b[49m\u001b[43m,\u001b[49m\n\u001b[1;32m   3978\u001b[0m \u001b[43m    \u001b[49m\u001b[43mchunksize\u001b[49m\u001b[38;5;241;43m=\u001b[39;49m\u001b[43mchunksize\u001b[49m\u001b[43m,\u001b[49m\n\u001b[1;32m   3979\u001b[0m \u001b[43m    \u001b[49m\u001b[43mquotechar\u001b[49m\u001b[38;5;241;43m=\u001b[39;49m\u001b[43mquotechar\u001b[49m\u001b[43m,\u001b[49m\n\u001b[1;32m   3980\u001b[0m \u001b[43m    \u001b[49m\u001b[43mdate_format\u001b[49m\u001b[38;5;241;43m=\u001b[39;49m\u001b[43mdate_format\u001b[49m\u001b[43m,\u001b[49m\n\u001b[1;32m   3981\u001b[0m \u001b[43m    \u001b[49m\u001b[43mdoublequote\u001b[49m\u001b[38;5;241;43m=\u001b[39;49m\u001b[43mdoublequote\u001b[49m\u001b[43m,\u001b[49m\n\u001b[1;32m   3982\u001b[0m \u001b[43m    \u001b[49m\u001b[43mescapechar\u001b[49m\u001b[38;5;241;43m=\u001b[39;49m\u001b[43mescapechar\u001b[49m\u001b[43m,\u001b[49m\n\u001b[1;32m   3983\u001b[0m \u001b[43m    \u001b[49m\u001b[43mstorage_options\u001b[49m\u001b[38;5;241;43m=\u001b[39;49m\u001b[43mstorage_options\u001b[49m\u001b[43m,\u001b[49m\n\u001b[1;32m   3984\u001b[0m \u001b[43m\u001b[49m\u001b[43m)\u001b[49m\n",
      "File \u001b[0;32m~/repos/PORT-EK/env/lib/python3.11/site-packages/pandas/io/formats/format.py:1014\u001b[0m, in \u001b[0;36mDataFrameRenderer.to_csv\u001b[0;34m(self, path_or_buf, encoding, sep, columns, index_label, mode, compression, quoting, quotechar, lineterminator, chunksize, date_format, doublequote, escapechar, errors, storage_options)\u001b[0m\n\u001b[1;32m    993\u001b[0m     created_buffer \u001b[38;5;241m=\u001b[39m \u001b[38;5;28;01mFalse\u001b[39;00m\n\u001b[1;32m    995\u001b[0m csv_formatter \u001b[38;5;241m=\u001b[39m CSVFormatter(\n\u001b[1;32m    996\u001b[0m     path_or_buf\u001b[38;5;241m=\u001b[39mpath_or_buf,\n\u001b[1;32m    997\u001b[0m     lineterminator\u001b[38;5;241m=\u001b[39mlineterminator,\n\u001b[0;32m   (...)\u001b[0m\n\u001b[1;32m   1012\u001b[0m     formatter\u001b[38;5;241m=\u001b[39m\u001b[38;5;28mself\u001b[39m\u001b[38;5;241m.\u001b[39mfmt,\n\u001b[1;32m   1013\u001b[0m )\n\u001b[0;32m-> 1014\u001b[0m \u001b[43mcsv_formatter\u001b[49m\u001b[38;5;241;43m.\u001b[39;49m\u001b[43msave\u001b[49m\u001b[43m(\u001b[49m\u001b[43m)\u001b[49m\n\u001b[1;32m   1016\u001b[0m \u001b[38;5;28;01mif\u001b[39;00m created_buffer:\n\u001b[1;32m   1017\u001b[0m     \u001b[38;5;28;01massert\u001b[39;00m \u001b[38;5;28misinstance\u001b[39m(path_or_buf, StringIO)\n",
      "File \u001b[0;32m~/repos/PORT-EK/env/lib/python3.11/site-packages/pandas/io/formats/csvs.py:251\u001b[0m, in \u001b[0;36mCSVFormatter.save\u001b[0;34m(self)\u001b[0m\n\u001b[1;32m    247\u001b[0m \u001b[38;5;250m\u001b[39m\u001b[38;5;124;03m\"\"\"\u001b[39;00m\n\u001b[1;32m    248\u001b[0m \u001b[38;5;124;03mCreate the writer & save.\u001b[39;00m\n\u001b[1;32m    249\u001b[0m \u001b[38;5;124;03m\"\"\"\u001b[39;00m\n\u001b[1;32m    250\u001b[0m \u001b[38;5;66;03m# apply compression and byte/text conversion\u001b[39;00m\n\u001b[0;32m--> 251\u001b[0m \u001b[38;5;28;01mwith\u001b[39;00m \u001b[43mget_handle\u001b[49m\u001b[43m(\u001b[49m\n\u001b[1;32m    252\u001b[0m \u001b[43m    \u001b[49m\u001b[38;5;28;43mself\u001b[39;49m\u001b[38;5;241;43m.\u001b[39;49m\u001b[43mfilepath_or_buffer\u001b[49m\u001b[43m,\u001b[49m\n\u001b[1;32m    253\u001b[0m \u001b[43m    \u001b[49m\u001b[38;5;28;43mself\u001b[39;49m\u001b[38;5;241;43m.\u001b[39;49m\u001b[43mmode\u001b[49m\u001b[43m,\u001b[49m\n\u001b[1;32m    254\u001b[0m \u001b[43m    \u001b[49m\u001b[43mencoding\u001b[49m\u001b[38;5;241;43m=\u001b[39;49m\u001b[38;5;28;43mself\u001b[39;49m\u001b[38;5;241;43m.\u001b[39;49m\u001b[43mencoding\u001b[49m\u001b[43m,\u001b[49m\n\u001b[1;32m    255\u001b[0m \u001b[43m    \u001b[49m\u001b[43merrors\u001b[49m\u001b[38;5;241;43m=\u001b[39;49m\u001b[38;5;28;43mself\u001b[39;49m\u001b[38;5;241;43m.\u001b[39;49m\u001b[43merrors\u001b[49m\u001b[43m,\u001b[49m\n\u001b[1;32m    256\u001b[0m \u001b[43m    \u001b[49m\u001b[43mcompression\u001b[49m\u001b[38;5;241;43m=\u001b[39;49m\u001b[38;5;28;43mself\u001b[39;49m\u001b[38;5;241;43m.\u001b[39;49m\u001b[43mcompression\u001b[49m\u001b[43m,\u001b[49m\n\u001b[1;32m    257\u001b[0m \u001b[43m    \u001b[49m\u001b[43mstorage_options\u001b[49m\u001b[38;5;241;43m=\u001b[39;49m\u001b[38;5;28;43mself\u001b[39;49m\u001b[38;5;241;43m.\u001b[39;49m\u001b[43mstorage_options\u001b[49m\u001b[43m,\u001b[49m\n\u001b[1;32m    258\u001b[0m \u001b[43m\u001b[49m\u001b[43m)\u001b[49m \u001b[38;5;28;01mas\u001b[39;00m handles:\n\u001b[1;32m    259\u001b[0m     \u001b[38;5;66;03m# Note: self.encoding is irrelevant here\u001b[39;00m\n\u001b[1;32m    260\u001b[0m     \u001b[38;5;28mself\u001b[39m\u001b[38;5;241m.\u001b[39mwriter \u001b[38;5;241m=\u001b[39m csvlib\u001b[38;5;241m.\u001b[39mwriter(\n\u001b[1;32m    261\u001b[0m         handles\u001b[38;5;241m.\u001b[39mhandle,\n\u001b[1;32m    262\u001b[0m         lineterminator\u001b[38;5;241m=\u001b[39m\u001b[38;5;28mself\u001b[39m\u001b[38;5;241m.\u001b[39mlineterminator,\n\u001b[0;32m   (...)\u001b[0m\n\u001b[1;32m    267\u001b[0m         quotechar\u001b[38;5;241m=\u001b[39m\u001b[38;5;28mself\u001b[39m\u001b[38;5;241m.\u001b[39mquotechar,\n\u001b[1;32m    268\u001b[0m     )\n\u001b[1;32m    270\u001b[0m     \u001b[38;5;28mself\u001b[39m\u001b[38;5;241m.\u001b[39m_save()\n",
      "File \u001b[0;32m~/repos/PORT-EK/env/lib/python3.11/site-packages/pandas/io/common.py:749\u001b[0m, in \u001b[0;36mget_handle\u001b[0;34m(path_or_buf, mode, encoding, compression, memory_map, is_text, errors, storage_options)\u001b[0m\n\u001b[1;32m    747\u001b[0m \u001b[38;5;66;03m# Only for write methods\u001b[39;00m\n\u001b[1;32m    748\u001b[0m \u001b[38;5;28;01mif\u001b[39;00m \u001b[38;5;124m\"\u001b[39m\u001b[38;5;124mr\u001b[39m\u001b[38;5;124m\"\u001b[39m \u001b[38;5;129;01mnot\u001b[39;00m \u001b[38;5;129;01min\u001b[39;00m mode \u001b[38;5;129;01mand\u001b[39;00m is_path:\n\u001b[0;32m--> 749\u001b[0m     \u001b[43mcheck_parent_directory\u001b[49m\u001b[43m(\u001b[49m\u001b[38;5;28;43mstr\u001b[39;49m\u001b[43m(\u001b[49m\u001b[43mhandle\u001b[49m\u001b[43m)\u001b[49m\u001b[43m)\u001b[49m\n\u001b[1;32m    751\u001b[0m \u001b[38;5;28;01mif\u001b[39;00m compression:\n\u001b[1;32m    752\u001b[0m     \u001b[38;5;28;01mif\u001b[39;00m compression \u001b[38;5;241m!=\u001b[39m \u001b[38;5;124m\"\u001b[39m\u001b[38;5;124mzstd\u001b[39m\u001b[38;5;124m\"\u001b[39m:\n\u001b[1;32m    753\u001b[0m         \u001b[38;5;66;03m# compression libraries do not like an explicit text-mode\u001b[39;00m\n",
      "File \u001b[0;32m~/repos/PORT-EK/env/lib/python3.11/site-packages/pandas/io/common.py:616\u001b[0m, in \u001b[0;36mcheck_parent_directory\u001b[0;34m(path)\u001b[0m\n\u001b[1;32m    614\u001b[0m parent \u001b[38;5;241m=\u001b[39m Path(path)\u001b[38;5;241m.\u001b[39mparent\n\u001b[1;32m    615\u001b[0m \u001b[38;5;28;01mif\u001b[39;00m \u001b[38;5;129;01mnot\u001b[39;00m parent\u001b[38;5;241m.\u001b[39mis_dir():\n\u001b[0;32m--> 616\u001b[0m     \u001b[38;5;28;01mraise\u001b[39;00m \u001b[38;5;167;01mOSError\u001b[39;00m(\u001b[38;5;124mrf\u001b[39m\u001b[38;5;124m\"\u001b[39m\u001b[38;5;124mCannot save file into a non-existent directory: \u001b[39m\u001b[38;5;124m'\u001b[39m\u001b[38;5;132;01m{\u001b[39;00mparent\u001b[38;5;132;01m}\u001b[39;00m\u001b[38;5;124m'\u001b[39m\u001b[38;5;124m\"\u001b[39m)\n",
      "\u001b[0;31mOSError\u001b[0m: Cannot save file into a non-existent directory: 'output/bat'"
     ]
    }
   ],
   "source": [
    "# Uncomment this block if you didn't re-examine the rare k-mers\n",
    "# bat_enriched = bat_overrep[bat_overrep['bat_RMSE']>min_RMSE]\n",
    "# human_enriched = human_overrep[human_overrep['bat_RMSE']>min_RMSE]\n",
    "\n",
    "# Comment this block if you didn't re-examine the rare k-mers \n",
    "bat_enriched = bat_overrep_all[bat_overrep['bat_RMSE']>min_RMSE]\n",
    "human_enriched = human_overrep_all[human_overrep['bat_RMSE']>min_RMSE]\n",
    "\n",
    "print(f\"{len(bat_enriched)} bat enriched k-mers and {len(human_enriched)} human enriched k-mers found.\")\n",
    "\n",
    "\n",
    "def assign_host_numerical(sample_id):\n",
    "    if sample_id in bat_sample_idx:\n",
    "        host = 1\n",
    "    else:\n",
    "        host = 0\n",
    "    return host\n",
    "\n",
    "\n",
    "counts_for_classifier = pd.concat([bat_enriched, human_enriched]).T\n",
    "counts_for_classifier.drop(common_kmer_stat_matrix.columns, axis=0, inplace=True)\n",
    "counts_for_classifier['host'] = counts_for_classifier.index.map(assign_host_numerical)\n",
    "\n",
    "counts_for_classifier.to_csv(\"../output/bat/15mer_counts_for_classifier.csv\")"
   ]
  },
  {
   "cell_type": "markdown",
   "metadata": {},
   "source": [
    "8. Map enriched k-mers to the reference genome and identify host-enriched mutations."
   ]
  }
 ],
 "metadata": {
  "kernelspec": {
   "display_name": "env",
   "language": "python",
   "name": "python3"
  },
  "language_info": {
   "codemirror_mode": {
    "name": "ipython",
    "version": 3
   },
   "file_extension": ".py",
   "mimetype": "text/x-python",
   "name": "python",
   "nbconvert_exporter": "python",
   "pygments_lexer": "ipython3",
   "version": "3.11.9"
  }
 },
 "nbformat": 4,
 "nbformat_minor": 2
}
